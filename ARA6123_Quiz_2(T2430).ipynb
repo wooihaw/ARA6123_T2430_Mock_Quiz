{
 "cells": [
  {
   "cell_type": "markdown",
   "id": "20374c67-8881-4dc9-b7d5-baeff57072d2",
   "metadata": {
    "id": "20374c67-8881-4dc9-b7d5-baeff57072d2"
   },
   "source": [
    "## ARA6123 Mock Quiz 2"
   ]
  },
  {
   "cell_type": "markdown",
   "id": "57ac5843-5d42-4daa-9a01-b7e61e605831",
   "metadata": {
    "id": "57ac5843-5d42-4daa-9a01-b7e61e605831"
   },
   "source": [
    "Name:  \n",
    "Student ID:  \n",
    "Date:  "
   ]
  },
  {
   "cell_type": "markdown",
   "id": "9408db05-8cba-4db8-bf79-90a85d1a3150",
   "metadata": {
    "id": "9408db05-8cba-4db8-bf79-90a85d1a3150"
   },
   "source": [
    "#### Description  \n",
    "The Glass Identification Dataset, used for machine learning classification, comprises 214 samples from the U.S. Forensic Science Service. It consists of nine features, including refractive index and various oxides, to classify glass into seven types. This dataset is valuable in forensic science for glass type identification based on chemical composition.\n",
    "\n",
    "This Jupyter Notebook imports the required libraries and load the dataset into a Pandas DataFrame.\n",
    "\n",
    "#### Tasks  \n",
    "After the dataset has been loaded into a Pandas DataFrame, you are required to perform the following tasks:  \n",
    "1. Print the first 5 rows of the dataset.\n",
    "2. Check for missing values.\n",
    "3. If there are any missing values, handle them appropriately (skip this step if there is no missing value).\n",
    "4. Separate the dataset to features (X) and targets (y).\n",
    "5. Print out the number of features.\n",
    "6. Use 3-fold cross validation to validate k-Nearest Neighbours, Logistric Regression, Random Forest and Multi-layer Perceptron classification models with the default values for the hyperparameters.\n",
    "7. Scale the features using StandardScaler().\n",
    "8. Repeat Step (6) on the scaled features."
   ]
  },
  {
   "cell_type": "code",
   "execution_count": 1,
   "id": "9d5f0e59-663d-4cbd-adac-5422bf17a7ac",
   "metadata": {
    "id": "9d5f0e59-663d-4cbd-adac-5422bf17a7ac",
    "tags": []
   },
   "outputs": [],
   "source": [
    "# Load libraries\n",
    "from pandas import read_csv\n",
    "from sklearn.neighbors import KNeighborsClassifier\n",
    "from sklearn.linear_model import LogisticRegression\n",
    "from sklearn.ensemble import RandomForestClassifier\n",
    "from sklearn.neural_network import MLPClassifier\n",
    "from sklearn.model_selection import cross_val_score, KFold\n",
    "from sklearn.preprocessing import StandardScaler"
   ]
  },
  {
   "cell_type": "code",
   "execution_count": 14,
   "id": "d2815a6d-d85c-4ebc-95a7-07437b8dd2ff",
   "metadata": {
    "id": "d2815a6d-d85c-4ebc-95a7-07437b8dd2ff",
    "tags": []
   },
   "outputs": [],
   "source": [
    "# Load dataset into Pandas DataFrame\n",
    "df = read_csv(\"glass_data_mod.csv\")"
   ]
  },
  {
   "cell_type": "code",
   "execution_count": null,
   "id": "3b1c4253-a0f0-4e86-b9dd-80c1fc748cb2",
   "metadata": {},
   "outputs": [],
   "source": []
  }
 ],
 "metadata": {
  "colab": {
   "include_colab_link": true,
   "provenance": []
  },
  "kernelspec": {
   "display_name": "Python 3 (ipykernel)",
   "language": "python",
   "name": "python3"
  },
  "language_info": {
   "codemirror_mode": {
    "name": "ipython",
    "version": 3
   },
   "file_extension": ".py",
   "mimetype": "text/x-python",
   "name": "python",
   "nbconvert_exporter": "python",
   "pygments_lexer": "ipython3",
   "version": "3.7.16"
  }
 },
 "nbformat": 4,
 "nbformat_minor": 5
}
